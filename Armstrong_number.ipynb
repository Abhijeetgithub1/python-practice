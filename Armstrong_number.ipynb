{
  "nbformat": 4,
  "nbformat_minor": 0,
  "metadata": {
    "kernelspec": {
      "display_name": "Python 3",
      "language": "python",
      "name": "python3"
    },
    "language_info": {
      "codemirror_mode": {
        "name": "ipython",
        "version": 3
      },
      "file_extension": ".py",
      "mimetype": "text/x-python",
      "name": "python",
      "nbconvert_exporter": "python",
      "pygments_lexer": "ipython3",
      "version": "3.6.6"
    },
    "colab": {
      "name": "Armstrong number",
      "provenance": [],
      "collapsed_sections": [],
      "include_colab_link": true
    }
  },
  "cells": [
    {
      "cell_type": "markdown",
      "metadata": {
        "id": "view-in-github",
        "colab_type": "text"
      },
      "source": [
        "<a href=\"https://colab.research.google.com/github/Abhijeetgithub1/python-practice/blob/main/Armstrong_number.ipynb\" target=\"_parent\"><img src=\"https://colab.research.google.com/assets/colab-badge.svg\" alt=\"Open In Colab\"/></a>"
      ]
    },
    {
      "cell_type": "markdown",
      "source": [
        "***Armstrong number=***   Number of n digits which are equal to sum of **nth** power of digits"
      ],
      "metadata": {
        "id": "ntlerMnMI8pW"
      }
    },
    {
      "cell_type": "markdown",
      "source": [
        "e.g. 153 total digits are 3\n",
        "so (1*1*1)+(5*5*5)+(3*3*3)\n",
        "1+125+27=153\n",
        "it is a armstrong number"
      ],
      "metadata": {
        "id": "ULWKDKn1KgLN"
      }
    },
    {
      "cell_type": "markdown",
      "source": [
        "range from 0 to 1000 thats why 1001 bcs it takes upto 1001 not 1001 previous of 1001.  len of int is not there therefore we converted to string.  by the use of % we get reminder. % by 10 we get 3 so digit =3 and cube of it will added to result.now we don't want 3 so use floor/trunketed division to get 15.now num==result print that num/result "
      ],
      "metadata": {
        "id": "XMmIyG0IMusQ"
      }
    },
    {
      "cell_type": "code",
      "source": [
        "for i in range(1001):\n",
        "    num=i\n",
        "    result=0\n",
        "    n =len(str(i))\n",
        "    while (i!=0):\n",
        "        digit=i%10\n",
        "        result=result+digit**n\n",
        "        i=i//10\n",
        "    if num==result:\n",
        "        print(num)"
      ],
      "metadata": {
        "id": "rxwwndJgGG9q",
        "colab": {
          "base_uri": "https://localhost:8080/"
        },
        "outputId": "551e0bf6-4ab0-47f7-b6b7-31fe1ccdd7e1"
      },
      "execution_count": 11,
      "outputs": [
        {
          "output_type": "stream",
          "name": "stdout",
          "text": [
            "0\n",
            "1\n",
            "2\n",
            "3\n",
            "4\n",
            "5\n",
            "6\n",
            "7\n",
            "8\n",
            "9\n",
            "153\n",
            "370\n",
            "371\n",
            "407\n"
          ]
        }
      ]
    }
  ]
}