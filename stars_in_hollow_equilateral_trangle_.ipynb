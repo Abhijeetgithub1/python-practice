{
  "nbformat": 4,
  "nbformat_minor": 0,
  "metadata": {
    "kernelspec": {
      "display_name": "Python 2",
      "language": "python",
      "name": "python2"
    },
    "language_info": {
      "codemirror_mode": {
        "name": "ipython",
        "version": 2
      },
      "file_extension": ".py",
      "mimetype": "text/x-python",
      "name": "python",
      "nbconvert_exporter": "python",
      "pygments_lexer": "ipython2",
      "version": "2.7.12"
    },
    "colab": {
      "name": "stars in hollow equilateral trangle.",
      "provenance": [],
      "collapsed_sections": [],
      "include_colab_link": true
    }
  },
  "cells": [
    {
      "cell_type": "markdown",
      "metadata": {
        "id": "view-in-github",
        "colab_type": "text"
      },
      "source": [
        "<a href=\"https://colab.research.google.com/github/Abhijeetgithub1/python-practice/blob/main/stars_in_hollow_equilateral_trangle_.ipynb\" target=\"_parent\"><img src=\"https://colab.research.google.com/assets/colab-badge.svg\" alt=\"Open In Colab\"/></a>"
      ]
    },
    {
      "cell_type": "markdown",
      "source": [
        "assuming 4 row and 7 coloumn we producing this shape,  row+col=5  there we have to print stars, and col-row=3 there we have to print stars here col is at first and then row bcs col is bigger in no."
      ],
      "metadata": {
        "id": "CD-A9MM82REW"
      }
    },
    {
      "cell_type": "code",
      "source": [
        "n=int(input(\"enter the no= \"))\n",
        "for row in range(1,n+1):\n",
        "  for col in range(1,2*n):\n",
        "    if row==4 or row+col==n+1 or col-row==n-1:\n",
        "       print(\"*\",end=\"\")\n",
        "    else:\n",
        "       print(end=\" \")\n",
        "  print()     "
      ],
      "metadata": {
        "colab": {
          "base_uri": "https://localhost:8080/"
        },
        "id": "t4C3pkz62aqZ",
        "outputId": "dabb021d-a5ff-4cb7-ad93-be1a5b8903b6"
      },
      "execution_count": 2,
      "outputs": [
        {
          "output_type": "stream",
          "name": "stdout",
          "text": [
            "enter the no= 4\n",
            "   *   \n",
            "  * *  \n",
            " *   * \n",
            "*******\n"
          ]
        }
      ]
    }
  ]
}