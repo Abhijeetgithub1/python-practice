{
  "nbformat": 4,
  "nbformat_minor": 0,
  "metadata": {
    "kernelspec": {
      "display_name": "Python 3",
      "language": "python",
      "name": "python3"
    },
    "language_info": {
      "codemirror_mode": {
        "name": "ipython",
        "version": 3
      },
      "file_extension": ".py",
      "mimetype": "text/x-python",
      "name": "python",
      "nbconvert_exporter": "python",
      "pygments_lexer": "ipython3",
      "version": "3.6.6"
    },
    "colab": {
      "name": "Factorial of +ve integer",
      "provenance": [],
      "collapsed_sections": [],
      "include_colab_link": true
    }
  },
  "cells": [
    {
      "cell_type": "markdown",
      "metadata": {
        "id": "view-in-github",
        "colab_type": "text"
      },
      "source": [
        "<a href=\"https://colab.research.google.com/github/Abhijeetgithub1/python-practice/blob/main/Factorial_of_%2Bve_integer.ipynb\" target=\"_parent\"><img src=\"https://colab.research.google.com/assets/colab-badge.svg\" alt=\"Open In Colab\"/></a>"
      ]
    },
    {
      "cell_type": "markdown",
      "source": [
        "factorial= product of all nos less than or equal to number\n",
        "factorial of 0 is 1\n",
        "\n",
        "1.   factorial by using inbuilt function.\n",
        "\n",
        "2.   input function will take string values so we want to convert this to int so we use int\n",
        "\n"
      ],
      "metadata": {
        "id": "EJrjK6XhVgPD"
      }
    },
    {
      "cell_type": "code",
      "source": [
        "import math\n",
        "n= int(input('enter the no'))\n",
        "\n",
        "factorial_of_number=math.factorial(n)\n",
        "print(f'the factorial of number {n} is {factorial_of_number}')\n"
      ],
      "metadata": {
        "colab": {
          "base_uri": "https://localhost:8080/"
        },
        "id": "vdRNeNikWH9s",
        "outputId": "90d2ef52-3d58-4bc2-ea88-3f07e0df3bd1"
      },
      "execution_count": 16,
      "outputs": [
        {
          "output_type": "stream",
          "name": "stdout",
          "text": [
            "enter the no5\n",
            "the factorial of number 5 is 120\n"
          ]
        }
      ]
    }
  ]
}