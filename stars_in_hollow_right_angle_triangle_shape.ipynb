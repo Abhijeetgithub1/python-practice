{
  "nbformat": 4,
  "nbformat_minor": 0,
  "metadata": {
    "kernelspec": {
      "display_name": "Python 3",
      "language": "python",
      "name": "python3"
    },
    "language_info": {
      "codemirror_mode": {
        "name": "ipython",
        "version": 3
      },
      "file_extension": ".py",
      "mimetype": "text/x-python",
      "name": "python",
      "nbconvert_exporter": "python",
      "pygments_lexer": "ipython3",
      "version": "3.6.6"
    },
    "colab": {
      "name": "stars in hollow right angle triangle shape",
      "provenance": [],
      "collapsed_sections": [],
      "include_colab_link": true
    }
  },
  "cells": [
    {
      "cell_type": "markdown",
      "metadata": {
        "id": "view-in-github",
        "colab_type": "text"
      },
      "source": [
        "<a href=\"https://colab.research.google.com/github/Abhijeetgithub1/python-practice/blob/main/stars_in_hollow_right_angle_triangle_shape.ipynb\" target=\"_parent\"><img src=\"https://colab.research.google.com/assets/colab-badge.svg\" alt=\"Open In Colab\"/></a>"
      ]
    },
    {
      "cell_type": "markdown",
      "source": [
        "foe e.g n=5 so that are 0,1,2,3,4.\n",
        "for row=0 we want all stars therefore (row==0).and for coloumn 4 we want all stars therefore (coloumn==4), and for row==coloumn we want stars therefore (row==coloumn). after printing stars in first row control wil go to second line that not happens we want control to be in same line that is for entire  zeroth row stars will print tha's why we used (end=\" \")\n",
        "\n",
        " logical or has the property called as short cercuit evaluation that is if 1st condition is true it will not go to 2nd. it will print entire 1st row and goes to 2nd ."
      ],
      "metadata": {
        "id": "oCyp_fsgz_-P"
      }
    },
    {
      "cell_type": "code",
      "source": [
        "n=int(input(\"enter the value\"))\n",
        "for row in range(0,n):\n",
        "    for coloumn in range(0,n):\n",
        "        if row==0 or coloumn==(n-1) or row==coloumn:\n",
        "           print(\"*\",end=\"\")\n",
        "        else: \n",
        "           print(end=\" \")\n",
        "    print()      "
      ],
      "metadata": {
        "colab": {
          "base_uri": "https://localhost:8080/"
        },
        "id": "2UvSlhpU4ZlH",
        "outputId": "bbc191b5-f40b-4e7c-8a67-cd728601274b"
      },
      "execution_count": 17,
      "outputs": [
        {
          "output_type": "stream",
          "name": "stdout",
          "text": [
            "enter the value10\n",
            "**********\n",
            " *       *\n",
            "  *      *\n",
            "   *     *\n",
            "    *    *\n",
            "     *   *\n",
            "      *  *\n",
            "       * *\n",
            "        **\n",
            "         *\n"
          ]
        }
      ]
    }
  ]
}