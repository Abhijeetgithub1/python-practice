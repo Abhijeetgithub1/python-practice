{
  "nbformat": 4,
  "nbformat_minor": 0,
  "metadata": {
    "kernelspec": {
      "display_name": "Python 3",
      "language": "python",
      "name": "python3"
    },
    "language_info": {
      "codemirror_mode": {
        "name": "ipython",
        "version": 3
      },
      "file_extension": ".py",
      "mimetype": "text/x-python",
      "name": "python",
      "nbconvert_exporter": "python",
      "pygments_lexer": "ipython3",
      "version": "3.6.6"
    },
    "colab": {
      "name": "string in right angle shape",
      "provenance": [],
      "collapsed_sections": [],
      "include_colab_link": true
    }
  },
  "cells": [
    {
      "cell_type": "markdown",
      "metadata": {
        "id": "view-in-github",
        "colab_type": "text"
      },
      "source": [
        "<a href=\"https://colab.research.google.com/github/Abhijeetgithub1/python-practice/blob/main/string_in_right_angle_shape.ipynb\" target=\"_parent\"><img src=\"https://colab.research.google.com/assets/colab-badge.svg\" alt=\"Open In Colab\"/></a>"
      ]
    },
    {
      "cell_type": "code",
      "source": [
        "string=input(\"enter the name\")\n",
        "length=len(string)\n",
        "for row in range(length):\n",
        "  for col in range(row+1):\n",
        "      print(string[col],end=\"  \")\n",
        "  print()    "
      ],
      "metadata": {
        "colab": {
          "base_uri": "https://localhost:8080/"
        },
        "id": "_uAKzM-RXn2n",
        "outputId": "a9d44bf5-ad09-40e0-b9e0-6947ac23d2c5"
      },
      "execution_count": 2,
      "outputs": [
        {
          "output_type": "stream",
          "name": "stdout",
          "text": [
            "enter the nameabhijeet\n",
            "a  \n",
            "a  b  \n",
            "a  b  h  \n",
            "a  b  h  i  \n",
            "a  b  h  i  j  \n",
            "a  b  h  i  j  e  \n",
            "a  b  h  i  j  e  e  \n",
            "a  b  h  i  j  e  e  t  \n"
          ]
        }
      ]
    }
  ]
}