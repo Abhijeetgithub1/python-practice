{
  "nbformat": 4,
  "nbformat_minor": 0,
  "metadata": {
    "kernelspec": {
      "display_name": "Python 3",
      "language": "python",
      "name": "python3"
    },
    "language_info": {
      "codemirror_mode": {
        "name": "ipython",
        "version": 3
      },
      "file_extension": ".py",
      "mimetype": "text/x-python",
      "name": "python",
      "nbconvert_exporter": "python",
      "pygments_lexer": "ipython3",
      "version": "3.6.6"
    },
    "colab": {
      "name": "hollow star.ipynb",
      "provenance": [],
      "collapsed_sections": [],
      "include_colab_link": true
    }
  },
  "cells": [
    {
      "cell_type": "markdown",
      "metadata": {
        "id": "view-in-github",
        "colab_type": "text"
      },
      "source": [
        "<a href=\"https://colab.research.google.com/github/Abhijeetgithub1/python-practice/blob/main/hollow_star.ipynb\" target=\"_parent\"><img src=\"https://colab.research.google.com/assets/colab-badge.svg\" alt=\"Open In Colab\"/></a>"
      ]
    },
    {
      "cell_type": "markdown",
      "source": [
        "**Printing stars in hollow right angle triangle**"
      ],
      "metadata": {
        "id": "fikWMoiUIbXP"
      }
    },
    {
      "cell_type": "code",
      "source": [
        "user=int (input('input no'))\n",
        "for i in range(user):\n",
        "  for j in range(user):\n",
        "    if j==0 or i==(user-1) or i==j:\n",
        "        print('#',end='')\n",
        "    else:\n",
        "        print(end=\" \")\n",
        "  print()"
      ],
      "metadata": {
        "colab": {
          "base_uri": "https://localhost:8080/"
        },
        "id": "akrLtOo8Imy1",
        "outputId": "e5f8103d-1992-4a0b-f22f-e03478627ff5"
      },
      "execution_count": null,
      "outputs": [
        {
          "output_type": "stream",
          "name": "stdout",
          "text": [
            "input no5\n",
            "#    \n",
            "##   \n",
            "# #  \n",
            "#  # \n",
            "#####\n"
          ]
        }
      ]
    }
  ]
}