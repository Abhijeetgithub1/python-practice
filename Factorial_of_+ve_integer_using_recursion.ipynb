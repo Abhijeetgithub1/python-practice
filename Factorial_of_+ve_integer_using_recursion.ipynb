{
  "nbformat": 4,
  "nbformat_minor": 0,
  "metadata": {
    "kernelspec": {
      "display_name": "Python 3",
      "language": "python",
      "name": "python3"
    },
    "language_info": {
      "codemirror_mode": {
        "name": "ipython",
        "version": 3
      },
      "file_extension": ".py",
      "mimetype": "text/x-python",
      "name": "python",
      "nbconvert_exporter": "python",
      "pygments_lexer": "ipython3",
      "version": "3.6.6"
    },
    "colab": {
      "name": "Factorial of +ve integer using recursion ",
      "provenance": [],
      "collapsed_sections": [],
      "include_colab_link": true
    }
  },
  "cells": [
    {
      "cell_type": "markdown",
      "metadata": {
        "id": "view-in-github",
        "colab_type": "text"
      },
      "source": [
        "<a href=\"https://colab.research.google.com/github/Abhijeetgithub1/python-practice/blob/main/Factorial_of_%2Bve_integer_using_recursion.ipynb\" target=\"_parent\"><img src=\"https://colab.research.google.com/assets/colab-badge.svg\" alt=\"Open In Colab\"/></a>"
      ]
    },
    {
      "cell_type": "markdown",
      "source": [
        "Factorial of positive integer using recursion function.\n",
        "\n",
        "*   function call itself known as recursion\n",
        "     \n",
        "*   there are two points 1=base case,  2=recursive case\n",
        "\n",
        "*   in recursuve function call itself until stopping condition not comes and n=0 then stoping condition comes because factorial of 0 is 1\n",
        "*   recursive case= n(n-1)!\n",
        "\n",
        "*   e.g. 5!= 5(5-1)! that is 5*4!\n",
        "\n",
        "\n",
        "\n",
        "\n",
        "*   inpython we need to define function\n",
        "*   if will contain base case and else will recursive case.\n",
        "\n",
        "\n",
        "\n",
        "\n",
        "\n",
        "\n",
        "\n",
        "\n"
      ],
      "metadata": {
        "id": "RMMO-s-CZLJJ"
      }
    },
    {
      "cell_type": "code",
      "source": [
        "def fact(n):\n",
        "  if n==0:\n",
        "      return 1\n",
        "  else: \n",
        "      \n",
        "      return n*fact(n-1)\n",
        "\n",
        "n=int(input('enter no'))\n",
        "result=fact(n)\n",
        "print(\"factorial of the no\", n ,\"is\", result)      "
      ],
      "metadata": {
        "colab": {
          "base_uri": "https://localhost:8080/"
        },
        "id": "XtGKmTb8a9pF",
        "outputId": "a6f19cc2-dfe6-45b1-caaf-c20e2c69bdff"
      },
      "execution_count": 18,
      "outputs": [
        {
          "output_type": "stream",
          "name": "stdout",
          "text": [
            "enter no5\n",
            "factorial of the no 5 is 120\n"
          ]
        }
      ]
    }
  ]
}