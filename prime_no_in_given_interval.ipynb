{
  "nbformat": 4,
  "nbformat_minor": 0,
  "metadata": {
    "kernelspec": {
      "display_name": "Python 3",
      "language": "python",
      "name": "python3"
    },
    "language_info": {
      "codemirror_mode": {
        "name": "ipython",
        "version": 3
      },
      "file_extension": ".py",
      "mimetype": "text/x-python",
      "name": "python",
      "nbconvert_exporter": "python",
      "pygments_lexer": "ipython3",
      "version": "3.6.6"
    },
    "colab": {
      "name": "prime no in given interval",
      "provenance": [],
      "collapsed_sections": [],
      "include_colab_link": true
    }
  },
  "cells": [
    {
      "cell_type": "markdown",
      "metadata": {
        "id": "view-in-github",
        "colab_type": "text"
      },
      "source": [
        "<a href=\"https://colab.research.google.com/github/Abhijeetgithub1/python-practice/blob/main/prime_no_in_given_interval.ipynb\" target=\"_parent\"><img src=\"https://colab.research.google.com/assets/colab-badge.svg\" alt=\"Open In Colab\"/></a>"
      ]
    },
    {
      "cell_type": "markdown",
      "source": [
        "natural no that should not have any devisor other than that itself e.g 1,2,3,5,7,11,13,17,19,23......we are searching prime no within interval that's why lower and upper we have check no is greater than 1 or not. we have to check no is divisible by smaller than that no is yes or no we don't check for 1 and that no itself."
      ],
      "metadata": {
        "id": "JPjVvlmmsPv_"
      }
    },
    {
      "cell_type": "code",
      "source": [
        "lower=int(input(\"enter the lower interval=\"))\n",
        "upper=int(input(\"enter yhe upper interval=\"))\n",
        "for num in range(lower,upper+1):\n",
        "    if num>1:\n",
        "        for i in range(2,num):\n",
        "            if(num%i)==0:\n",
        "               break\n",
        "            else:  \n",
        "                print(num)"
      ],
      "metadata": {
        "colab": {
          "base_uri": "https://localhost:8080/"
        },
        "id": "LbyPg__dsbID",
        "outputId": "c2295d01-86e0-48d9-9107-0e20f9f72fa6"
      },
      "execution_count": null,
      "outputs": [
        {
          "output_type": "stream",
          "name": "stdout",
          "text": [
            "enter the lower interval=2\n",
            "enter yhe upper interval=20\n",
            "3\n",
            "5\n",
            "5\n",
            "5\n",
            "7\n",
            "7\n",
            "7\n",
            "7\n",
            "7\n",
            "9\n",
            "11\n",
            "11\n",
            "11\n",
            "11\n",
            "11\n",
            "11\n",
            "11\n",
            "11\n",
            "11\n",
            "13\n",
            "13\n",
            "13\n",
            "13\n",
            "13\n",
            "13\n",
            "13\n",
            "13\n",
            "13\n",
            "13\n",
            "13\n",
            "15\n",
            "17\n",
            "17\n",
            "17\n",
            "17\n",
            "17\n",
            "17\n",
            "17\n",
            "17\n",
            "17\n",
            "17\n",
            "17\n",
            "17\n",
            "17\n",
            "17\n",
            "17\n",
            "19\n",
            "19\n",
            "19\n",
            "19\n",
            "19\n",
            "19\n",
            "19\n",
            "19\n",
            "19\n",
            "19\n",
            "19\n",
            "19\n",
            "19\n",
            "19\n",
            "19\n",
            "19\n",
            "19\n"
          ]
        }
      ]
    }
  ]
}