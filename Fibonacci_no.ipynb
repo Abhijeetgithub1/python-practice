{
  "nbformat": 4,
  "nbformat_minor": 0,
  "metadata": {
    "kernelspec": {
      "display_name": "Python 3",
      "language": "python",
      "name": "python3"
    },
    "language_info": {
      "codemirror_mode": {
        "name": "ipython",
        "version": 3
      },
      "file_extension": ".py",
      "mimetype": "text/x-python",
      "name": "python",
      "nbconvert_exporter": "python",
      "pygments_lexer": "ipython3",
      "version": "3.6.6"
    },
    "colab": {
      "name": "Fibonacci no",
      "provenance": [],
      "collapsed_sections": [],
      "include_colab_link": true
    }
  },
  "cells": [
    {
      "cell_type": "markdown",
      "metadata": {
        "id": "view-in-github",
        "colab_type": "text"
      },
      "source": [
        "<a href=\"https://colab.research.google.com/github/Abhijeetgithub1/python-practice/blob/main/Fibonacci_no.ipynb\" target=\"_parent\"><img src=\"https://colab.research.google.com/assets/colab-badge.svg\" alt=\"Open In Colab\"/></a>"
      ]
    },
    {
      "cell_type": "markdown",
      "source": [
        "it is the no of addition of privious two nos  0,1 then next no is addition of 0+1=2   next no  1+2=3 next 2+3=5  next 5+8=13 so on....\n",
        "0,1,1,2,3,5,8,13......."
      ],
      "metadata": {
        "id": "ISs1kTz8hWnF"
      }
    },
    {
      "cell_type": "code",
      "source": [
        "no=int(input(\"enter the no\"))\n",
        "first=0\n",
        "second=1\n",
        "for i in range(no):\n",
        "    print(first)\n",
        "    temp=first\n",
        "    first=second\n",
        "    second=temp+second"
      ],
      "metadata": {
        "colab": {
          "base_uri": "https://localhost:8080/"
        },
        "id": "Ja790DBWhrH2",
        "outputId": "12017075-3eec-4c3e-d084-9e6c85f90ecf"
      },
      "execution_count": null,
      "outputs": [
        {
          "output_type": "stream",
          "name": "stdout",
          "text": [
            "enter the no10\n",
            "0\n",
            "1\n",
            "1\n",
            "2\n",
            "3\n",
            "5\n",
            "8\n",
            "13\n",
            "21\n",
            "34\n"
          ]
        }
      ]
    }
  ]
}