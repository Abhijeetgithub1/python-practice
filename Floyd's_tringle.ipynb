{
  "nbformat": 4,
  "nbformat_minor": 0,
  "metadata": {
    "kernelspec": {
      "display_name": "Python 3",
      "language": "python",
      "name": "python3"
    },
    "language_info": {
      "codemirror_mode": {
        "name": "ipython",
        "version": 3
      },
      "file_extension": ".py",
      "mimetype": "text/x-python",
      "name": "python",
      "nbconvert_exporter": "python",
      "pygments_lexer": "ipython3",
      "version": "3.6.6"
    },
    "colab": {
      "name": "Floyd's tringle",
      "provenance": [],
      "collapsed_sections": [],
      "include_colab_link": true
    }
  },
  "cells": [
    {
      "cell_type": "markdown",
      "metadata": {
        "id": "view-in-github",
        "colab_type": "text"
      },
      "source": [
        "<a href=\"https://colab.research.google.com/github/Abhijeetgithub1/python-practice/blob/main/Floyd's_tringle.ipynb\" target=\"_parent\"><img src=\"https://colab.research.google.com/assets/colab-badge.svg\" alt=\"Open In Colab\"/></a>"
      ]
    },
    {
      "cell_type": "code",
      "source": [
        "n=int(input(\"enter the no\"))\n",
        "num=1\n",
        "for row in range(1,n+1):\n",
        "    for col in range(1,row+1):\n",
        "        print(num,end=\"  \")\n",
        "        num=num+1\n",
        "    print()   \n"
      ],
      "metadata": {
        "colab": {
          "base_uri": "https://localhost:8080/"
        },
        "id": "jppntoB8EWW3",
        "outputId": "a00649f4-0533-4f3b-b86f-d571b69d185e"
      },
      "execution_count": null,
      "outputs": [
        {
          "output_type": "stream",
          "name": "stdout",
          "text": [
            "enter the no10\n",
            "1  \n",
            "2  3  \n",
            "4  5  6  \n",
            "7  8  9  10  \n",
            "11  12  13  14  15  \n",
            "16  17  18  19  20  21  \n",
            "22  23  24  25  26  27  28  \n",
            "29  30  31  32  33  34  35  36  \n",
            "37  38  39  40  41  42  43  44  45  \n",
            "46  47  48  49  50  51  52  53  54  55  \n"
          ]
        }
      ]
    },
    {
      "cell_type": "markdown",
      "source": [
        "when row is 1 we want 1 col and foe row 2 col is 2 so on ....."
      ],
      "metadata": {
        "id": "Oby0Vgi3FUgH"
      }
    }
  ]
}